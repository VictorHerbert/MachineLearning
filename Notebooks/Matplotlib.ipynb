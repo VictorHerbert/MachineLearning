{
  "nbformat": 4,
  "nbformat_minor": 0,
  "metadata": {
    "kernelspec": {
      "display_name": "Python 3",
      "language": "python",
      "name": "python3"
    },
    "language_info": {
      "codemirror_mode": {
        "name": "ipython",
        "version": 3
      },
      "file_extension": ".py",
      "mimetype": "text/x-python",
      "name": "python",
      "nbconvert_exporter": "python",
      "pygments_lexer": "ipython3",
      "version": "3.5.2"
    },
    "colab": {
      "name": "MatPlotLib.ipynb",
      "provenance": [],
      "collapsed_sections": [],
      "toc_visible": true,
      "include_colab_link": true
    }
  },
  "cells": [
    {
      "cell_type": "markdown",
      "metadata": {
        "id": "view-in-github",
        "colab_type": "text"
      },
      "source": [
        "<a href=\"https://colab.research.google.com/github/VictorHerbert/MachineLearning/blob/master/Notebooks/Matplotlib.ipynb\" target=\"_parent\"><img src=\"https://colab.research.google.com/assets/colab-badge.svg\" alt=\"Open In Colab\"/></a>"
      ]
    },
    {
      "cell_type": "markdown",
      "metadata": {
        "deletable": true,
        "editable": true,
        "id": "AKNJ12C6_kJM",
        "colab_type": "text"
      },
      "source": [
        "# MatPlotLib\n"
      ]
    },
    {
      "cell_type": "markdown",
      "metadata": {
        "id": "axXQ_EfEEeuV",
        "colab_type": "text"
      },
      "source": [
        "A maneira mais fácil de traçar gráficos em python é o usando o módulo Pyplot da biblioteca do MatPlotLib. Ela é compatível com o Numpy, então podemos chamar os dois módulos com os devidos apelidos"
      ]
    },
    {
      "cell_type": "code",
      "metadata": {
        "id": "MOgQp-96D_qa",
        "colab_type": "code",
        "colab": {}
      },
      "source": [
        "import matplotlib.pyplot as plt\n",
        "import numpy as np\n",
        "%matplotlib inline"
      ],
      "execution_count": 0,
      "outputs": []
    },
    {
      "cell_type": "markdown",
      "metadata": {
        "id": "nBCW-MonFUd_",
        "colab_type": "text"
      },
      "source": [
        "## Plotando um gráfico de linha"
      ]
    },
    {
      "cell_type": "markdown",
      "metadata": {
        "id": "sGl7StyeF3Qr",
        "colab_type": "text"
      },
      "source": [
        "- Para plotar um gráfico de linha, podemos descrever os pontos de interesse por um vetor e chamar plot()"
      ]
    },
    {
      "cell_type": "code",
      "metadata": {
        "id": "Mu5NtqpuFXXL",
        "colab_type": "code",
        "outputId": "51bd7e0b-77fd-4316-d99e-2d52fb493c9a",
        "colab": {
          "base_uri": "https://localhost:8080/",
          "height": 265
        }
      },
      "source": [
        "y = [1,2,4]\n",
        "\n",
        "plt.plot(y)\n",
        "plt.show()"
      ],
      "execution_count": 0,
      "outputs": [
        {
          "output_type": "display_data",
          "data": {
            "image/png": "[encoded data removed]",
            "text/plain": [
              "<Figure size 432x288 with 1 Axes>"
            ]
          },
          "metadata": {
            "tags": [],
            "needs_background": "light"
          }
        }
      ]
    },
    {
      "cell_type": "markdown",
      "metadata": {
        "id": "pcHdYzxbHnr6",
        "colab_type": "text"
      },
      "source": [
        "- Se quisermos especificar os pontos x,y basta declarar um vetor x adcional"
      ]
    },
    {
      "cell_type": "code",
      "metadata": {
        "id": "1JVd2SFSH1Ya",
        "colab_type": "code",
        "outputId": "716f4c41-196e-41ae-f82e-101b282e8248",
        "colab": {
          "base_uri": "https://localhost:8080/",
          "height": 265
        }
      },
      "source": [
        "x = [1,2,3.5,4]\n",
        "y = [1,2,3,3.7]\n",
        "\n",
        "plt.plot(x,y)\n",
        "plt.show()"
      ],
      "execution_count": 0,
      "outputs": [
        {
          "output_type": "display_data",
          "data": {
            "image/png": "[encoded data removed]",
            "text/plain": [
              "<Figure size 432x288 with 1 Axes>"
            ]
          },
          "metadata": {
            "tags": [],
            "needs_background": "light"
          }
        }
      ]
    },
    {
      "cell_type": "markdown",
      "metadata": {
        "deletable": true,
        "editable": true,
        "id": "0mp3IPZz_kJO",
        "colab_type": "text"
      },
      "source": [
        "## Plotando uma função"
      ]
    },
    {
      "cell_type": "markdown",
      "metadata": {
        "id": "ksJlh7RyIYsx",
        "colab_type": "text"
      },
      "source": [
        "- Para traçar uma função, usamos a função linspace do módulo numpy, que gera um array entre dois limites"
      ]
    },
    {
      "cell_type": "code",
      "metadata": {
        "id": "w0VEnJXAJdds",
        "colab_type": "code",
        "outputId": "a19b8651-2f9b-4951-cff4-30e028f28a44",
        "colab": {
          "base_uri": "https://localhost:8080/",
          "height": 170
        }
      },
      "source": [
        "x = np.linspace(-2,2)\n",
        "print(x)"
      ],
      "execution_count": 0,
      "outputs": [
        {
          "output_type": "stream",
          "text": [
            "[-2.         -1.91836735 -1.83673469 -1.75510204 -1.67346939 -1.59183673\n",
            " -1.51020408 -1.42857143 -1.34693878 -1.26530612 -1.18367347 -1.10204082\n",
            " -1.02040816 -0.93877551 -0.85714286 -0.7755102  -0.69387755 -0.6122449\n",
            " -0.53061224 -0.44897959 -0.36734694 -0.28571429 -0.20408163 -0.12244898\n",
            " -0.04081633  0.04081633  0.12244898  0.20408163  0.28571429  0.36734694\n",
            "  0.44897959  0.53061224  0.6122449   0.69387755  0.7755102   0.85714286\n",
            "  0.93877551  1.02040816  1.10204082  1.18367347  1.26530612  1.34693878\n",
            "  1.42857143  1.51020408  1.59183673  1.67346939  1.75510204  1.83673469\n",
            "  1.91836735  2.        ]\n"
          ],
          "name": "stdout"
        }
      ]
    },
    {
      "cell_type": "markdown",
      "metadata": {
        "id": "xDQmOKhbJh6c",
        "colab_type": "text"
      },
      "source": [
        "- Define-se a função, aplicando ao array y, e chamamos plt.plot() novamente"
      ]
    },
    {
      "cell_type": "code",
      "metadata": {
        "id": "uBGLQllsJhkF",
        "colab_type": "code",
        "outputId": "ded95026-a4f2-40f2-d7c3-bfed052933ac",
        "colab": {
          "base_uri": "https://localhost:8080/",
          "height": 265
        }
      },
      "source": [
        "def func(x):\n",
        "  return x**2\n",
        "\n",
        "y = func(x)\n",
        "\n",
        "plt.plot(x,y)\n",
        "plt.show()"
      ],
      "execution_count": 0,
      "outputs": [
        {
          "output_type": "display_data",
          "data": {
            "image/png": "[encoded data removed]",
            "text/plain": [
              "<Figure size 432x288 with 1 Axes>"
            ]
          },
          "metadata": {
            "tags": [],
            "needs_background": "light"
          }
        }
      ]
    },
    {
      "cell_type": "markdown",
      "metadata": {
        "deletable": true,
        "editable": true,
        "id": "L017Tcre_kJV",
        "colab_type": "text"
      },
      "source": [
        "## Mutiplas funções"
      ]
    },
    {
      "cell_type": "markdown",
      "metadata": {
        "id": "w0ugxEjUKMJQ",
        "colab_type": "text"
      },
      "source": [
        "- Podemos chamar plt.plot() quantas vezes quisermos, para traçar diversas funções que só serão exibidas na chamada de plt.show()"
      ]
    },
    {
      "cell_type": "code",
      "metadata": {
        "deletable": true,
        "editable": true,
        "id": "zHW_nGE6_kJW",
        "colab_type": "code",
        "outputId": "379fe8bf-f1d5-458b-b8c5-b016c5158de1",
        "colab": {
          "base_uri": "https://localhost:8080/",
          "height": 265
        }
      },
      "source": [
        "def func1(x):\n",
        "  return x**2\n",
        "\n",
        "def func2(x):\n",
        "  return np.e**(-x**2)\n",
        "\n",
        "x = np.linspace(-2,2)\n",
        "y1 = func1(x)\n",
        "y2 = func2(x)\n",
        "\n",
        "plt.plot(x, y1)\n",
        "plt.plot(x, y2)\n",
        "plt.show()"
      ],
      "execution_count": 0,
      "outputs": [
        {
          "output_type": "display_data",
          "data": {
            "image/png": "[encoded data removed]",
            "text/plain": [
              "<Figure size 432x288 with 1 Axes>"
            ]
          },
          "metadata": {
            "tags": [],
            "needs_background": "light"
          }
        }
      ]
    },
    {
      "cell_type": "markdown",
      "metadata": {
        "deletable": true,
        "editable": true,
        "id": "xWnZUy2k_kJZ",
        "colab_type": "text"
      },
      "source": [
        "## Salvar o gráfico"
      ]
    },
    {
      "cell_type": "markdown",
      "metadata": {
        "id": "JvBXPvx9LNnZ",
        "colab_type": "text"
      },
      "source": [
        "- Para salvar, chame plt.savefig(), passando o endereço e a extensão.\n",
        "- No Google Collab, o arquivo estará no menu <i>files</i> ao lado"
      ]
    },
    {
      "cell_type": "code",
      "metadata": {
        "deletable": true,
        "editable": true,
        "id": "3beyraFb_kJa",
        "colab_type": "code",
        "outputId": "2c5bc6ec-8a0e-455c-af6d-4937157ffcce",
        "colab": {
          "base_uri": "https://localhost:8080/",
          "height": 265
        }
      },
      "source": [
        "plt.plot(x, y)\n",
        "plt.plot(x, y2)\n",
        "plt.savefig('plot.png', format='png')"
      ],
      "execution_count": 0,
      "outputs": [
        {
          "output_type": "display_data",
          "data": {
            "image/png": "[encoded data removed]",
            "text/plain": [
              "<Figure size 432x288 with 1 Axes>"
            ]
          },
          "metadata": {
            "tags": [],
            "needs_background": "light"
          }
        }
      ]
    },
    {
      "cell_type": "markdown",
      "metadata": {
        "deletable": true,
        "editable": true,
        "id": "z9vJ4Otq_kJe",
        "colab_type": "text"
      },
      "source": [
        "## Ajustar os eixos"
      ]
    },
    {
      "cell_type": "markdown",
      "metadata": {
        "id": "WmbAz8TRMAr4",
        "colab_type": "text"
      },
      "source": [
        "- Podemos ajustar os limites dos eixos x e y através de plt.axes(), que retorna um objeto do tipo axes"
      ]
    },
    {
      "cell_type": "code",
      "metadata": {
        "id": "dxkAnLvUL7me",
        "colab_type": "code",
        "outputId": "572b7284-96d6-4a01-9b7a-241ebae7a5cd",
        "colab": {
          "base_uri": "https://localhost:8080/",
          "height": 286
        }
      },
      "source": [
        "axes = plt.axes()\n",
        "axes.set_xlim([-5, 5])\n",
        "axes.set_ylim([0, 1.0])"
      ],
      "execution_count": 0,
      "outputs": [
        {
          "output_type": "execute_result",
          "data": {
            "text/plain": [
              "(0.0, 1.0)"
            ]
          },
          "metadata": {
            "tags": []
          },
          "execution_count": 8
        },
        {
          "output_type": "display_data",
          "data": {
            "image/png": "[encoded data removed]",
            "text/plain": [
              "<Figure size 432x288 with 1 Axes>"
            ]
          },
          "metadata": {
            "tags": [],
            "needs_background": "light"
          }
        }
      ]
    },
    {
      "cell_type": "markdown",
      "metadata": {
        "id": "fY_fCYsSMNWN",
        "colab_type": "text"
      },
      "source": [
        "- Podemos também escolher os valores de referência que apareceram nos eixos"
      ]
    },
    {
      "cell_type": "code",
      "metadata": {
        "id": "KEH8E6IiL_BY",
        "colab_type": "code",
        "outputId": "2dc5c805-d41c-4ec0-f6a9-3d98396b5541",
        "colab": {
          "base_uri": "https://localhost:8080/",
          "height": 204
        }
      },
      "source": [
        "axes.set_xticks([-5, -4, -3, -2, -1, 0, 1, 2, 3, 4, 5])\n",
        "axes.set_yticks([0, 0.1, 0.2, 0.3, 0.4, 0.5, 0.6, 0.7, 0.8, 0.9, 1.0])\n"
      ],
      "execution_count": 0,
      "outputs": [
        {
          "output_type": "execute_result",
          "data": {
            "text/plain": [
              "[<matplotlib.axis.YTick at 0x7f05c3db5588>,\n",
              " <matplotlib.axis.YTick at 0x7f05c3e1efd0>,\n",
              " <matplotlib.axis.YTick at 0x7f05c3ddcef0>,\n",
              " <matplotlib.axis.YTick at 0x7f05c3de5828>,\n",
              " <matplotlib.axis.YTick at 0x7f05c3de5c88>,\n",
              " <matplotlib.axis.YTick at 0x7f05c3deb198>,\n",
              " <matplotlib.axis.YTick at 0x7f05c3e1d400>,\n",
              " <matplotlib.axis.YTick at 0x7f05c3deb0b8>,\n",
              " <matplotlib.axis.YTick at 0x7f05c3d89470>,\n",
              " <matplotlib.axis.YTick at 0x7f05c3d89908>,\n",
              " <matplotlib.axis.YTick at 0x7f05c3d89da0>]"
            ]
          },
          "metadata": {
            "tags": []
          },
          "execution_count": 9
        }
      ]
    },
    {
      "cell_type": "code",
      "metadata": {
        "deletable": true,
        "editable": true,
        "id": "OT88EUo4_kJf",
        "colab_type": "code",
        "outputId": "023bab37-9c68-4bbb-8f12-e95b2e3c97ef",
        "colab": {
          "base_uri": "https://localhost:8080/",
          "height": 265
        }
      },
      "source": [
        "plt.plot(x, y1)\n",
        "plt.plot(x, y2)\n",
        "plt.show()"
      ],
      "execution_count": 0,
      "outputs": [
        {
          "output_type": "display_data",
          "data": {
            "image/png": "[encoded data removed]",
            "text/plain": [
              "<Figure size 432x288 with 1 Axes>"
            ]
          },
          "metadata": {
            "tags": [],
            "needs_background": "light"
          }
        }
      ]
    },
    {
      "cell_type": "markdown",
      "metadata": {
        "deletable": true,
        "editable": true,
        "id": "RIt8MBRU_kJj",
        "colab_type": "text"
      },
      "source": [
        "## Adcionar malha"
      ]
    },
    {
      "cell_type": "markdown",
      "metadata": {
        "id": "YQOt1HCBMrca",
        "colab_type": "text"
      },
      "source": [
        "- Basta chamar plt.grid()"
      ]
    },
    {
      "cell_type": "code",
      "metadata": {
        "deletable": true,
        "editable": true,
        "id": "wngdpW8M_kJk",
        "colab_type": "code",
        "outputId": "34bd625a-65ac-4e48-f742-f6db64f6f736",
        "colab": {
          "base_uri": "https://localhost:8080/",
          "height": 265
        }
      },
      "source": [
        "plt.plot(x, y1)\n",
        "plt.plot(x, y2)\n",
        "plt.grid()\n",
        "plt.show()"
      ],
      "execution_count": 0,
      "outputs": [
        {
          "output_type": "display_data",
          "data": {
            "image/png": "[encoded data removed]",
            "text/plain": [
              "<Figure size 432x288 with 1 Axes>"
            ]
          },
          "metadata": {
            "tags": [],
            "needs_background": "light"
          }
        }
      ]
    },
    {
      "cell_type": "markdown",
      "metadata": {
        "deletable": true,
        "editable": true,
        "id": "FR8gPqkJ_kJn",
        "colab_type": "text"
      },
      "source": [
        "## Mudar estilo"
      ]
    },
    {
      "cell_type": "markdown",
      "metadata": {
        "id": "v6t1paaENAmE",
        "colab_type": "text"
      },
      "source": [
        "- O terceiro argumento de plt.plot() pode ser usado para definir um estilo de linha.\n",
        "- Alguns estilos possíveis são\n",
        " - '-'\n",
        " - '--'\n",
        " - '-.'\n",
        " - ':'"
      ]
    },
    {
      "cell_type": "code",
      "metadata": {
        "deletable": true,
        "editable": true,
        "id": "NcWBMgdQ_kJo",
        "colab_type": "code",
        "outputId": "6ade816a-28bb-4058-c446-d9f7b975208e",
        "colab": {
          "base_uri": "https://localhost:8080/",
          "height": 265
        }
      },
      "source": [
        "plt.plot(x, y1,'r--')\n",
        "plt.plot(x, y2,'-.')\n",
        "\n",
        "plt.grid()\n",
        "plt.show()"
      ],
      "execution_count": 0,
      "outputs": [
        {
          "output_type": "display_data",
          "data": {
            "image/png": "[encoded data removed]",
            "text/plain": [
              "<Figure size 432x288 with 1 Axes>"
            ]
          },
          "metadata": {
            "tags": [],
            "needs_background": "light"
          }
        }
      ]
    },
    {
      "cell_type": "markdown",
      "metadata": {
        "deletable": true,
        "editable": true,
        "id": "EihXmzzB_kJt",
        "colab_type": "text"
      },
      "source": [
        "## Legendas"
      ]
    },
    {
      "cell_type": "markdown",
      "metadata": {
        "id": "SUO6SUbcOmZH",
        "colab_type": "text"
      },
      "source": [
        "- As legendas dos eixos são inseridas por plt.xlabel() e plt.ylabel()"
      ]
    },
    {
      "cell_type": "markdown",
      "metadata": {
        "id": "ovDu9suzO0-i",
        "colab_type": "text"
      },
      "source": [
        "- Legendas são inseridas com plt.legend() "
      ]
    },
    {
      "cell_type": "code",
      "metadata": {
        "deletable": true,
        "editable": true,
        "id": "S7D4-bFC_kJu",
        "colab_type": "code",
        "outputId": "ca097558-6d6a-477a-bf11-6d73c1e97825",
        "colab": {
          "base_uri": "https://localhost:8080/",
          "height": 279
        }
      },
      "source": [
        "plt.plot(x, y1,'--')\n",
        "plt.plot(x, y2,'-.')\n",
        "\n",
        "\n",
        "plt.xlabel('Eixo X')\n",
        "plt.ylabel('Eixo Y')\n",
        "plt.legend(['Func. Segundo grau', 'Gaussiana'])\n",
        "\n",
        "plt.grid()\n",
        "plt.show()"
      ],
      "execution_count": 0,
      "outputs": [
        {
          "output_type": "display_data",
          "data": {
            "image/png": "[encoded data removed]",
            "text/plain": [
              "<Figure size 432x288 with 1 Axes>"
            ]
          },
          "metadata": {
            "tags": [],
            "needs_background": "light"
          }
        }
      ]
    },
    {
      "cell_type": "markdown",
      "metadata": {
        "deletable": true,
        "editable": true,
        "id": "zk8d0-DE_kJ2",
        "colab_type": "text"
      },
      "source": [
        "## Gráfico de Setores"
      ]
    },
    {
      "cell_type": "markdown",
      "metadata": {
        "id": "FXi3iZwxQwih",
        "colab_type": "text"
      },
      "source": [
        "- values: valor que cada parcela representa\n",
        "- color: cor de cada parcela\n",
        "- explode: deslocamento de cada parcela, um valor de 0.2 é o que permite que o setor <i>Campina Grande</i> se destaque\n",
        "- labels: legendas"
      ]
    },
    {
      "cell_type": "code",
      "metadata": {
        "deletable": true,
        "editable": true,
        "id": "HpuDzehf_kJ3",
        "colab_type": "code",
        "outputId": "3ea00bbf-b96b-4c18-fee1-b08832262ce9",
        "colab": {
          "base_uri": "https://localhost:8080/",
          "height": 266
        }
      },
      "source": [
        "values = [10, 45, 1, 30, 14]\n",
        "colors = ['r', 'g', 'b', 'c', 'm']\n",
        "explode = [0, 0, 0.2, 0, 0]\n",
        "labels = ['Cajazeiras', 'João Pessoa', 'Campina Grande', 'Cabedelo', 'Patos']\n",
        "plt.pie(values, colors= colors, labels=labels, explode = explode)\n",
        "plt.title('Água na Paraíba')\n",
        "plt.show()"
      ],
      "execution_count": 0,
      "outputs": [
        {
          "output_type": "display_data",
          "data": {
            "image/png": "[encoded data removed]",
            "text/plain": [
              "<Figure size 432x288 with 1 Axes>"
            ]
          },
          "metadata": {
            "tags": []
          }
        }
      ]
    },
    {
      "cell_type": "markdown",
      "metadata": {
        "deletable": true,
        "editable": true,
        "id": "XkfifwNp_kJ6",
        "colab_type": "text"
      },
      "source": [
        "## Gráfico de barra"
      ]
    },
    {
      "cell_type": "markdown",
      "metadata": {
        "id": "7mjy27d4RcVG",
        "colab_type": "text"
      },
      "source": [
        "- Values e colors se comportam da mesma maneira que no gráfico de setores\n",
        "- Index é o vetor de índices de cada"
      ]
    },
    {
      "cell_type": "code",
      "metadata": {
        "deletable": true,
        "editable": true,
        "id": "W5pbKyOF_kJ7",
        "colab_type": "code",
        "outputId": "d49b9f50-838b-456f-83c6-41fdc3f3db2c",
        "colab": {
          "base_uri": "https://localhost:8080/",
          "height": 265
        }
      },
      "source": [
        "values = [12, 55, 1, 32, 14]\n",
        "colors = ['r', 'g', 'b', 'c', 'm']\n",
        "index = [0,1,2,3,4]\n",
        "\n",
        "plt.bar(index, values, color= colors)\n",
        "plt.show()"
      ],
      "execution_count": 0,
      "outputs": [
        {
          "output_type": "display_data",
          "data": {
            "image/png": "[encoded data removed]",
            "text/plain": [
              "<Figure size 432x288 with 1 Axes>"
            ]
          },
          "metadata": {
            "tags": [],
            "needs_background": "light"
          }
        }
      ]
    },
    {
      "cell_type": "markdown",
      "metadata": {
        "deletable": true,
        "editable": true,
        "id": "bz-64g12_kKA",
        "colab_type": "text"
      },
      "source": [
        "## Gráfico de dispersão"
      ]
    },
    {
      "cell_type": "markdown",
      "metadata": {
        "id": "Y9Ya5Si7TSnN",
        "colab_type": "text"
      },
      "source": [
        "- Podemos usar pylab.randn pra gerar um array com valores aleatórios"
      ]
    },
    {
      "cell_type": "code",
      "metadata": {
        "deletable": true,
        "editable": true,
        "id": "OD0IM7t-_kKA",
        "colab_type": "code",
        "outputId": "f98d1f1a-14e6-42d9-d6c1-fff6f55227e6",
        "colab": {
          "base_uri": "https://localhost:8080/",
          "height": 323
        }
      },
      "source": [
        "from pylab import randn\n",
        "\n",
        "X = randn(50)\n",
        "Y = randn(50)\n",
        "\n",
        "print(X)\n",
        "print(Y)"
      ],
      "execution_count": 0,
      "outputs": [
        {
          "output_type": "stream",
          "text": [
            "[ 0.38629728  0.58022442 -0.50357487  1.00047262 -1.46619433 -0.53733719\n",
            "  0.8427432   0.98982076  0.78901649  0.6243601  -0.71984906  0.01676975\n",
            "  1.09059024  0.54476939  0.13568626 -0.42129108  0.42148662  1.36460821\n",
            " -1.76819866 -1.20277851 -1.16712819 -1.1207782   0.05173873  1.68272983\n",
            "  1.00063796 -1.01675404  0.0932193   0.78891353 -0.27451441 -0.3673126\n",
            " -0.78524891 -1.06659444  0.45953236 -0.09993133  0.5378693   0.25500057\n",
            " -0.92374811  1.45530545  0.12436972 -0.90470825  0.08540568  1.30623135\n",
            "  1.00013899  0.34619782 -0.55756242 -0.6645665  -0.82782698 -0.91271001\n",
            " -0.54761863 -0.43456563]\n",
            "[-0.56780194  0.08151518 -1.36167123  0.13635589  0.76349778 -0.79089517\n",
            " -0.67296564  0.53758404 -2.24275072  1.26115257 -0.91320856  0.90954658\n",
            "  0.39850833 -0.9156952  -0.17605123 -0.73087356 -0.56195988  0.9655308\n",
            "  1.038147    1.04500393 -0.35962423  0.33664286 -0.21250256  1.20025291\n",
            "  0.8176716   0.89019757  1.06629802 -0.27218715 -0.50563587 -0.3799974\n",
            "  1.07447038  1.19136475  2.17033717  0.76791685 -0.06393621  0.84970581\n",
            " -0.23699107  2.462357    1.69080601  0.11619771 -0.59098546  1.49093547\n",
            "  0.67980445  0.17252337 -0.14083418  0.49357055 -1.31396826 -0.9292481\n",
            "  1.43352752 -0.07655534]\n"
          ],
          "name": "stdout"
        }
      ]
    },
    {
      "cell_type": "markdown",
      "metadata": {
        "id": "qYyouWgRTaMe",
        "colab_type": "text"
      },
      "source": [
        "- Chamando plt.scatter() da mesma forma que plt.plot() geramos um gráfico de dispersão"
      ]
    },
    {
      "cell_type": "code",
      "metadata": {
        "id": "JNl5TgCkTPk2",
        "colab_type": "code",
        "outputId": "9721d499-4995-4cd1-ce95-0592b22e069e",
        "colab": {
          "base_uri": "https://localhost:8080/",
          "height": 265
        }
      },
      "source": [
        "plt.scatter(X,Y)\n",
        "plt.show()"
      ],
      "execution_count": 0,
      "outputs": [
        {
          "output_type": "display_data",
          "data": {
            "image/png": "[encoded data removed]",
            "text/plain": [
              "<Figure size 432x288 with 1 Axes>"
            ]
          },
          "metadata": {
            "tags": [],
            "needs_background": "light"
          }
        }
      ]
    },
    {
      "cell_type": "markdown",
      "metadata": {
        "deletable": true,
        "editable": true,
        "id": "m0wyGMlm_kKD",
        "colab_type": "text"
      },
      "source": [
        "## Histograma"
      ]
    },
    {
      "cell_type": "markdown",
      "metadata": {
        "id": "y3CIOaN9UEXy",
        "colab_type": "text"
      },
      "source": [
        "- Podemos gerar dados aleatórios normalmente distribuídos com np.random.normal()"
      ]
    },
    {
      "cell_type": "code",
      "metadata": {
        "id": "IzuX3mntUD_N",
        "colab_type": "code",
        "colab": {}
      },
      "source": [
        "x = np.random.normal(27000, 15000, 10000)"
      ],
      "execution_count": 0,
      "outputs": []
    },
    {
      "cell_type": "markdown",
      "metadata": {
        "id": "e2CTv4qBUOX9",
        "colab_type": "text"
      },
      "source": [
        "- Com plt.hist(x,n) geramos um histograma, contendo a distruibuição de x em n intervalos"
      ]
    },
    {
      "cell_type": "code",
      "metadata": {
        "deletable": true,
        "editable": true,
        "id": "79czz4jn_kKE",
        "colab_type": "code",
        "outputId": "c462f660-b89c-4a3c-da06-7339d482ea7a",
        "colab": {
          "base_uri": "https://localhost:8080/",
          "height": 265
        }
      },
      "source": [
        "plt.hist(x, 270)\n",
        "plt.show()"
      ],
      "execution_count": 0,
      "outputs": [
        {
          "output_type": "display_data",
          "data": {
            "image/png": "[encoded data removed]",
            "text/plain": [
              "<Figure size 432x288 with 1 Axes>"
            ]
          },
          "metadata": {
            "tags": [],
            "needs_background": "light"
          }
        }
      ]
    },
    {
      "cell_type": "markdown",
      "metadata": {
        "id": "ZjxPEkwoIPL_",
        "colab_type": "text"
      },
      "source": [
        "## Gráficos interativos no Collab"
      ]
    },
    {
      "cell_type": "markdown",
      "metadata": {
        "id": "mu-pVnLtIWH8",
        "colab_type": "text"
      },
      "source": [
        "- Rodando o Matplotlib no seu computador, os gráficos podem ser interativos\n",
        "- No Google Collab essa função não é nativa, por isso temos que usar bibliotecas externas para isso"
      ]
    },
    {
      "cell_type": "markdown",
      "metadata": {
        "id": "N8ovnMhEImjY",
        "colab_type": "text"
      },
      "source": [
        "### MPLD3"
      ]
    },
    {
      "cell_type": "markdown",
      "metadata": {
        "id": "QuH7F63EIvSj",
        "colab_type": "text"
      },
      "source": [
        "- Para instalar, usamos o pip"
      ]
    },
    {
      "cell_type": "code",
      "metadata": {
        "id": "LsI1YtXkIsi8",
        "colab_type": "code",
        "outputId": "33e24133-8830-4eb3-a68d-b3e1411700e6",
        "colab": {
          "base_uri": "https://localhost:8080/",
          "height": 207
        }
      },
      "source": [
        "!pip install mpld3"
      ],
      "execution_count": 0,
      "outputs": [
        {
          "output_type": "stream",
          "text": [
            "Collecting mpld3\n",
            "\u001b[?25l  Downloading https://files.pythonhosted.org/packages/91/95/a52d3a83d0a29ba0d6898f6727e9858fe7a43f6c2ce81a5fe7e05f0f4912/mpld3-0.3.tar.gz (788kB)\n",
            "\u001b[K     |████████████████████████████████| 798kB 2.8MB/s \n",
            "\u001b[?25hBuilding wheels for collected packages: mpld3\n",
            "  Building wheel for mpld3 (setup.py) ... \u001b[?25l\u001b[?25hdone\n",
            "  Created wheel for mpld3: filename=mpld3-0.3-cp36-none-any.whl size=116679 sha256=a68329c32701a1003a595a6aa9f586fd2d38f0d9aa5a9797f713b56466673665\n",
            "  Stored in directory: /root/.cache/pip/wheels/c0/47/fb/8a64f89aecfe0059830479308ad42d62e898a3e3cefdf6ba28\n",
            "Successfully built mpld3\n",
            "Installing collected packages: mpld3\n",
            "Successfully installed mpld3-0.3\n"
          ],
          "name": "stdout"
        }
      ]
    },
    {
      "cell_type": "markdown",
      "metadata": {
        "id": "KG6S4dy1I3SL",
        "colab_type": "text"
      },
      "source": [
        "- Importamos as devidas bibliotecas"
      ]
    },
    {
      "cell_type": "code",
      "metadata": {
        "id": "ncadt5JGIU2m",
        "colab_type": "code",
        "colab": {}
      },
      "source": [
        "import matplotlib.pyplot as plt\n",
        "import mpld3\n",
        "from mpld3 import plugins"
      ],
      "execution_count": 0,
      "outputs": []
    },
    {
      "cell_type": "markdown",
      "metadata": {
        "id": "DNKi5PhUJic6",
        "colab_type": "text"
      },
      "source": [
        "- E usamos mpld3.display() ao invés de plt.show()"
      ]
    },
    {
      "cell_type": "code",
      "metadata": {
        "id": "pCaST7_xI6TT",
        "colab_type": "code",
        "outputId": "dd7e367d-2cc7-4f86-dfdd-30094a62fd28",
        "colab": {
          "base_uri": "https://localhost:8080/",
          "height": 501
        }
      },
      "source": [
        "x = np.linspace(-3,3,50)\n",
        "y = np.exp(x)\n",
        "\n",
        "plt.plot(x,y)\n",
        "mpld3.display()"
      ],
      "execution_count": 0,
      "outputs": [
        {
          "output_type": "execute_result",
          "data": {
            "text/html": [
              "\n",
              "\n",
              "<style>\n",
              "\n",
              "</style>\n",
              "\n",
              "<div id=\"fig_el1191396626834491046576424585\"></div>\n",
              "<script>\n",
              "function mpld3_load_lib(url, callback){\n",
              "  var s = document.createElement('script');\n",
              "  s.src = url;\n",
              "  s.async = true;\n",
              "  s.onreadystatechange = s.onload = callback;\n",
              "  s.onerror = function(){console.warn(\"failed to load library \" + url);};\n",
              "  document.getElementsByTagName(\"head\")[0].appendChild(s);\n",
              "}\n",
              "\n",
              "if(typeof(mpld3) !== \"undefined\" && mpld3._mpld3IsLoaded){\n",
              "   // already loaded: just create the figure\n",
              "   !function(mpld3){\n",
              "       \n",
              "       mpld3.draw_figure(\"fig_el1191396626834491046576424585\", {\"width\": 640.0, \"height\": 480.0, \"axes\": [{\"bbox\": [0.125, 0.10999999999999999, 0.775, 0.77], \"xlim\": [-3.3, 3.3], \"ylim\": [-0.9520004243731263, 21.08732441592866], \"xdomain\": [-3.3, 3.3], \"ydomain\": [-0.9520004243731263, 21.08732441592866], \"xscale\": \"linear\", \"yscale\": \"linear\", \"axes\": [{\"position\": \"bottom\", \"nticks\": 9, \"tickvalues\": null, \"tickformat\": null, \"scale\": \"linear\", \"fontsize\": 10.0, \"grid\": {\"gridOn\": false}, \"visible\": true}, {\"position\": \"left\", \"nticks\": 11, \"tickvalues\": null, \"tickformat\": null, \"scale\": \"linear\", \"fontsize\": 10.0, \"grid\": {\"gridOn\": false}, \"visible\": true}], \"axesbg\": \"#FFFFFF\", \"axesbgalpha\": null, \"zoomable\": true, \"id\": \"el119139662683527432\", \"lines\": [{\"data\": \"data01\", \"xindex\": 0, \"yindex\": 1, \"coordinates\": \"data\", \"id\": \"el119139662694073568\", \"color\": \"#1F77B4\", \"linewidth\": 1.5, \"dasharray\": \"none\", \"alpha\": 1, \"zorder\": 2, \"drawstyle\": \"default\"}], \"paths\": [], \"markers\": [], \"texts\": [], \"collections\": [], \"images\": [], \"sharex\": [], \"sharey\": []}], \"data\": {\"data01\": [[-3.0, 0.049787068367863944], [-2.877551020408163, 0.056272404194356196], [-2.7551020408163267, 0.0636025292836268], [-2.63265306122449, 0.07188748711185018], [-2.510204081632653, 0.08125165557821261], [-2.387755102040816, 0.09183561422767024], [-2.2653061224489797, 0.10379825470085506], [-2.142857142857143, 0.11731916609425078], [-2.020408163265306, 0.13260133104084862], [-1.8979591836734695, 0.14987417298618502], [-1.7755102040816326, 0.1693970004069815], [-1.653061224489796, 0.19146289967870542], [-1.5306122448979593, 0.21640313503371336], [-1.4081632653061225, 0.24459212166433136], [-1.2857142857142858, 0.2764530466295643], [-1.163265306122449, 0.3124642219492766], [-1.0408163265306123, 0.3531662652616454], [-0.9183673469387754, 0.39917021584348367], [-0.795918367346939, 0.451166707835154], [-0.6734693877551021, 0.5099363383830838], [-0.5510204081632653, 0.5763613863515786], [-0.4285714285714288, 0.6514390575310555], [-0.30612244897959195, 0.7362964551863366], [-0.18367346938775508, 0.8322075006903012], [-0.06122448979591866, 0.9406120582638511], [0.06122448979591821, 1.0631375509322778], [0.18367346938775508, 1.2016233922074937], [0.30612244897959195, 1.358148600276674], [0.4285714285714284, 1.5350630092552096], [0.5510204081632653, 1.7350225460627982], [0.6734693877551021, 1.961029102516639], [0.7959183673469385, 2.216475601221393], [0.9183673469387754, 2.5051969318074176], [1.0408163265306118, 2.831527522197352], [1.1632653061224492, 3.2003664091895097], [1.2857142857142856, 3.617250785229936], [1.408163265306122, 4.088439125493831], [1.5306122448979593, 4.621005143221287], [1.6530612244897958, 5.222943983811503], [1.7755102040816322, 5.903292251913959], [1.8979591836734695, 6.672263673422753], [2.020408163265306, 7.54140242899933], [2.1428571428571423, 8.523756461042597], [2.2653061224489797, 9.634073355876593], [2.387755102040816, 10.889021741836384], [2.5102040816326525, 12.307441526990209], [2.63265306122449, 13.91062673319063], [2.7551020408163263, 15.72264517249992], [2.8775510204081627, 17.77069976513095], [3.0, 20.085536923187668]]}, \"id\": \"el119139662683449104\", \"plugins\": [{\"type\": \"reset\"}, {\"type\": \"zoom\", \"button\": true, \"enabled\": false}, {\"type\": \"boxzoom\", \"button\": true, \"enabled\": false}]});\n",
              "   }(mpld3);\n",
              "}else if(typeof define === \"function\" && define.amd){\n",
              "   // require.js is available: use it to load d3/mpld3\n",
              "   require.config({paths: {d3: \"https://mpld3.github.io/js/d3.v3.min\"}});\n",
              "   require([\"d3\"], function(d3){\n",
              "      window.d3 = d3;\n",
              "      mpld3_load_lib(\"https://mpld3.github.io/js/mpld3.v0.3.js\", function(){\n",
              "         \n",
              "         mpld3.draw_figure(\"fig_el1191396626834491046576424585\", {\"width\": 640.0, \"height\": 480.0, \"axes\": [{\"bbox\": [0.125, 0.10999999999999999, 0.775, 0.77], \"xlim\": [-3.3, 3.3], \"ylim\": [-0.9520004243731263, 21.08732441592866], \"xdomain\": [-3.3, 3.3], \"ydomain\": [-0.9520004243731263, 21.08732441592866], \"xscale\": \"linear\", \"yscale\": \"linear\", \"axes\": [{\"position\": \"bottom\", \"nticks\": 9, \"tickvalues\": null, \"tickformat\": null, \"scale\": \"linear\", \"fontsize\": 10.0, \"grid\": {\"gridOn\": false}, \"visible\": true}, {\"position\": \"left\", \"nticks\": 11, \"tickvalues\": null, \"tickformat\": null, \"scale\": \"linear\", \"fontsize\": 10.0, \"grid\": {\"gridOn\": false}, \"visible\": true}], \"axesbg\": \"#FFFFFF\", \"axesbgalpha\": null, \"zoomable\": true, \"id\": \"el119139662683527432\", \"lines\": [{\"data\": \"data01\", \"xindex\": 0, \"yindex\": 1, \"coordinates\": \"data\", \"id\": \"el119139662694073568\", \"color\": \"#1F77B4\", \"linewidth\": 1.5, \"dasharray\": \"none\", \"alpha\": 1, \"zorder\": 2, \"drawstyle\": \"default\"}], \"paths\": [], \"markers\": [], \"texts\": [], \"collections\": [], \"images\": [], \"sharex\": [], \"sharey\": []}], \"data\": {\"data01\": [[-3.0, 0.049787068367863944], [-2.877551020408163, 0.056272404194356196], [-2.7551020408163267, 0.0636025292836268], [-2.63265306122449, 0.07188748711185018], [-2.510204081632653, 0.08125165557821261], [-2.387755102040816, 0.09183561422767024], [-2.2653061224489797, 0.10379825470085506], [-2.142857142857143, 0.11731916609425078], [-2.020408163265306, 0.13260133104084862], [-1.8979591836734695, 0.14987417298618502], [-1.7755102040816326, 0.1693970004069815], [-1.653061224489796, 0.19146289967870542], [-1.5306122448979593, 0.21640313503371336], [-1.4081632653061225, 0.24459212166433136], [-1.2857142857142858, 0.2764530466295643], [-1.163265306122449, 0.3124642219492766], [-1.0408163265306123, 0.3531662652616454], [-0.9183673469387754, 0.39917021584348367], [-0.795918367346939, 0.451166707835154], [-0.6734693877551021, 0.5099363383830838], [-0.5510204081632653, 0.5763613863515786], [-0.4285714285714288, 0.6514390575310555], [-0.30612244897959195, 0.7362964551863366], [-0.18367346938775508, 0.8322075006903012], [-0.06122448979591866, 0.9406120582638511], [0.06122448979591821, 1.0631375509322778], [0.18367346938775508, 1.2016233922074937], [0.30612244897959195, 1.358148600276674], [0.4285714285714284, 1.5350630092552096], [0.5510204081632653, 1.7350225460627982], [0.6734693877551021, 1.961029102516639], [0.7959183673469385, 2.216475601221393], [0.9183673469387754, 2.5051969318074176], [1.0408163265306118, 2.831527522197352], [1.1632653061224492, 3.2003664091895097], [1.2857142857142856, 3.617250785229936], [1.408163265306122, 4.088439125493831], [1.5306122448979593, 4.621005143221287], [1.6530612244897958, 5.222943983811503], [1.7755102040816322, 5.903292251913959], [1.8979591836734695, 6.672263673422753], [2.020408163265306, 7.54140242899933], [2.1428571428571423, 8.523756461042597], [2.2653061224489797, 9.634073355876593], [2.387755102040816, 10.889021741836384], [2.5102040816326525, 12.307441526990209], [2.63265306122449, 13.91062673319063], [2.7551020408163263, 15.72264517249992], [2.8775510204081627, 17.77069976513095], [3.0, 20.085536923187668]]}, \"id\": \"el119139662683449104\", \"plugins\": [{\"type\": \"reset\"}, {\"type\": \"zoom\", \"button\": true, \"enabled\": false}, {\"type\": \"boxzoom\", \"button\": true, \"enabled\": false}]});\n",
              "      });\n",
              "    });\n",
              "}else{\n",
              "    // require.js not available: dynamically load d3 & mpld3\n",
              "    mpld3_load_lib(\"https://mpld3.github.io/js/d3.v3.min.js\", function(){\n",
              "         mpld3_load_lib(\"https://mpld3.github.io/js/mpld3.v0.3.js\", function(){\n",
              "                 \n",
              "                 mpld3.draw_figure(\"fig_el1191396626834491046576424585\", {\"width\": 640.0, \"height\": 480.0, \"axes\": [{\"bbox\": [0.125, 0.10999999999999999, 0.775, 0.77], \"xlim\": [-3.3, 3.3], \"ylim\": [-0.9520004243731263, 21.08732441592866], \"xdomain\": [-3.3, 3.3], \"ydomain\": [-0.9520004243731263, 21.08732441592866], \"xscale\": \"linear\", \"yscale\": \"linear\", \"axes\": [{\"position\": \"bottom\", \"nticks\": 9, \"tickvalues\": null, \"tickformat\": null, \"scale\": \"linear\", \"fontsize\": 10.0, \"grid\": {\"gridOn\": false}, \"visible\": true}, {\"position\": \"left\", \"nticks\": 11, \"tickvalues\": null, \"tickformat\": null, \"scale\": \"linear\", \"fontsize\": 10.0, \"grid\": {\"gridOn\": false}, \"visible\": true}], \"axesbg\": \"#FFFFFF\", \"axesbgalpha\": null, \"zoomable\": true, \"id\": \"el119139662683527432\", \"lines\": [{\"data\": \"data01\", \"xindex\": 0, \"yindex\": 1, \"coordinates\": \"data\", \"id\": \"el119139662694073568\", \"color\": \"#1F77B4\", \"linewidth\": 1.5, \"dasharray\": \"none\", \"alpha\": 1, \"zorder\": 2, \"drawstyle\": \"default\"}], \"paths\": [], \"markers\": [], \"texts\": [], \"collections\": [], \"images\": [], \"sharex\": [], \"sharey\": []}], \"data\": {\"data01\": [[-3.0, 0.049787068367863944], [-2.877551020408163, 0.056272404194356196], [-2.7551020408163267, 0.0636025292836268], [-2.63265306122449, 0.07188748711185018], [-2.510204081632653, 0.08125165557821261], [-2.387755102040816, 0.09183561422767024], [-2.2653061224489797, 0.10379825470085506], [-2.142857142857143, 0.11731916609425078], [-2.020408163265306, 0.13260133104084862], [-1.8979591836734695, 0.14987417298618502], [-1.7755102040816326, 0.1693970004069815], [-1.653061224489796, 0.19146289967870542], [-1.5306122448979593, 0.21640313503371336], [-1.4081632653061225, 0.24459212166433136], [-1.2857142857142858, 0.2764530466295643], [-1.163265306122449, 0.3124642219492766], [-1.0408163265306123, 0.3531662652616454], [-0.9183673469387754, 0.39917021584348367], [-0.795918367346939, 0.451166707835154], [-0.6734693877551021, 0.5099363383830838], [-0.5510204081632653, 0.5763613863515786], [-0.4285714285714288, 0.6514390575310555], [-0.30612244897959195, 0.7362964551863366], [-0.18367346938775508, 0.8322075006903012], [-0.06122448979591866, 0.9406120582638511], [0.06122448979591821, 1.0631375509322778], [0.18367346938775508, 1.2016233922074937], [0.30612244897959195, 1.358148600276674], [0.4285714285714284, 1.5350630092552096], [0.5510204081632653, 1.7350225460627982], [0.6734693877551021, 1.961029102516639], [0.7959183673469385, 2.216475601221393], [0.9183673469387754, 2.5051969318074176], [1.0408163265306118, 2.831527522197352], [1.1632653061224492, 3.2003664091895097], [1.2857142857142856, 3.617250785229936], [1.408163265306122, 4.088439125493831], [1.5306122448979593, 4.621005143221287], [1.6530612244897958, 5.222943983811503], [1.7755102040816322, 5.903292251913959], [1.8979591836734695, 6.672263673422753], [2.020408163265306, 7.54140242899933], [2.1428571428571423, 8.523756461042597], [2.2653061224489797, 9.634073355876593], [2.387755102040816, 10.889021741836384], [2.5102040816326525, 12.307441526990209], [2.63265306122449, 13.91062673319063], [2.7551020408163263, 15.72264517249992], [2.8775510204081627, 17.77069976513095], [3.0, 20.085536923187668]]}, \"id\": \"el119139662683449104\", \"plugins\": [{\"type\": \"reset\"}, {\"type\": \"zoom\", \"button\": true, \"enabled\": false}, {\"type\": \"boxzoom\", \"button\": true, \"enabled\": false}]});\n",
              "            })\n",
              "         });\n",
              "}\n",
              "</script>"
            ],
            "text/plain": [
              "<IPython.core.display.HTML object>"
            ]
          },
          "metadata": {
            "tags": []
          },
          "execution_count": 25
        }
      ]
    },
    {
      "cell_type": "markdown",
      "metadata": {
        "id": "6OT9sBPzPOzn",
        "colab_type": "text"
      },
      "source": [
        "## Easter EGG: Estilo XKCD"
      ]
    },
    {
      "cell_type": "code",
      "metadata": {
        "id": "X_ac4e09PNo1",
        "colab_type": "code",
        "outputId": "5b95024b-2808-4644-e6e7-f4552c6e89fc",
        "colab": {
          "base_uri": "https://localhost:8080/",
          "height": 340
        }
      },
      "source": [
        "# Ativar o estilo\n",
        "plt.xkcd()\n",
        "\n",
        "x = np.linspace(-10,10)\n",
        "\n",
        "plt.plot(x,np.exp(-.1*x)*np.sin(x))\n",
        "\n",
        "plt.xlabel('Tempo')\n",
        "plt.ylabel('Valor')\n",
        "plt.legend('Seno Amortecido')\n",
        "\n",
        "# Desativar o estilo\n",
        "plt.rcdefaults()"
      ],
      "execution_count": 0,
      "outputs": [
        {
          "output_type": "stream",
          "text": [
            "/usr/local/lib/python3.6/dist-packages/matplotlib/backends/backend_agg.py:214: RuntimeWarning: Glyph 8722 missing from current font.\n",
            "  font.set_text(s, 0.0, flags=flags)\n"
          ],
          "name": "stderr"
        },
        {
          "output_type": "display_data",
          "data": {
            "image/png": "[encoded data removed]",
            "text/plain": [
              "<Figure size 432x288 with 1 Axes>"
            ]
          },
          "metadata": {
            "tags": []
          }
        }
      ]
    },
    {
      "cell_type": "markdown",
      "metadata": {
        "deletable": true,
        "editable": true,
        "id": "Baz1Envr_kKM",
        "colab_type": "text"
      },
      "source": [
        "# Exercícios"
      ]
    },
    {
      "cell_type": "markdown",
      "metadata": {
        "id": "p3TDI2LUXG1Z",
        "colab_type": "text"
      },
      "source": [
        "## Exercício 1"
      ]
    },
    {
      "cell_type": "markdown",
      "metadata": {
        "id": "yd2Fjn-JWqWC",
        "colab_type": "text"
      },
      "source": [
        "Tente criar um conjunto de dados que represente o tempo gasto assistindo TV pela idade"
      ]
    },
    {
      "cell_type": "markdown",
      "metadata": {
        "id": "AxkLL_1zWFny",
        "colab_type": "text"
      },
      "source": [
        "- Plote um gráfico de linha com esses dados"
      ]
    },
    {
      "cell_type": "code",
      "metadata": {
        "deletable": true,
        "editable": true,
        "id": "1hCHDcRb_kKO",
        "colab_type": "code",
        "colab": {}
      },
      "source": [
        ""
      ],
      "execution_count": 0,
      "outputs": []
    },
    {
      "cell_type": "markdown",
      "metadata": {
        "id": "HKbW3KprWjYV",
        "colab_type": "text"
      },
      "source": [
        "- Plote um gráfico de dispersão com esses dados"
      ]
    },
    {
      "cell_type": "code",
      "metadata": {
        "id": "x0ZvZ_azW7bN",
        "colab_type": "code",
        "colab": {}
      },
      "source": [
        ""
      ],
      "execution_count": 0,
      "outputs": []
    },
    {
      "cell_type": "markdown",
      "metadata": {
        "id": "p-NPUDPlXJzC",
        "colab_type": "text"
      },
      "source": [
        "## Exercício 2"
      ]
    },
    {
      "cell_type": "markdown",
      "metadata": {
        "id": "lqqjUILjXR9a",
        "colab_type": "text"
      },
      "source": [
        "- Ache as 3 raízes da função $x^3-2x^2-15x$ plotando o seu gráfico\n",
        "  - dica: use o mpld3"
      ]
    }
  ]
}